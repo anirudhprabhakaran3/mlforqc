{
 "cells": [
  {
   "cell_type": "code",
   "execution_count": 1,
   "id": "c7bf0a3b",
   "metadata": {},
   "outputs": [],
   "source": [
    "import pandas as pd\n",
    "import numpy as np"
   ]
  },
  {
   "cell_type": "code",
   "execution_count": 43,
   "id": "22e7a601",
   "metadata": {},
   "outputs": [
    {
     "name": "stdout",
     "output_type": "stream",
     "text": [
      "(66747, 84)\n",
      "(26758, 84)\n"
     ]
    },
    {
     "data": {
      "text/html": [
       "<div>\n",
       "<style scoped>\n",
       "    .dataframe tbody tr th:only-of-type {\n",
       "        vertical-align: middle;\n",
       "    }\n",
       "\n",
       "    .dataframe tbody tr th {\n",
       "        vertical-align: top;\n",
       "    }\n",
       "\n",
       "    .dataframe thead th {\n",
       "        text-align: right;\n",
       "    }\n",
       "</style>\n",
       "<table border=\"1\" class=\"dataframe\">\n",
       "  <thead>\n",
       "    <tr style=\"text-align: right;\">\n",
       "      <th></th>\n",
       "      <th>last_update_date</th>\n",
       "      <th>N_qubits</th>\n",
       "      <th>N_cx</th>\n",
       "      <th>N_measures</th>\n",
       "      <th>cx_0_1</th>\n",
       "      <th>cx_0_2</th>\n",
       "      <th>cx_0_3</th>\n",
       "      <th>cx_0_4</th>\n",
       "      <th>cx_1_0</th>\n",
       "      <th>cx_1_2</th>\n",
       "      <th>...</th>\n",
       "      <th>T2_3</th>\n",
       "      <th>readout_error_3</th>\n",
       "      <th>T1_4</th>\n",
       "      <th>T2_4</th>\n",
       "      <th>readout_error_4</th>\n",
       "      <th>0</th>\n",
       "      <th>1</th>\n",
       "      <th>2</th>\n",
       "      <th>3</th>\n",
       "      <th>4</th>\n",
       "    </tr>\n",
       "  </thead>\n",
       "  <tbody>\n",
       "    <tr>\n",
       "      <th>6</th>\n",
       "      <td>2020-05-03 10:03:21+02:00</td>\n",
       "      <td>5</td>\n",
       "      <td>1</td>\n",
       "      <td>5</td>\n",
       "      <td>0</td>\n",
       "      <td>0</td>\n",
       "      <td>0</td>\n",
       "      <td>0</td>\n",
       "      <td>0</td>\n",
       "      <td>0</td>\n",
       "      <td>...</td>\n",
       "      <td>24.146419</td>\n",
       "      <td>0.016667</td>\n",
       "      <td>53.144192</td>\n",
       "      <td>76.958280</td>\n",
       "      <td>0.023333</td>\n",
       "      <td>4.0</td>\n",
       "      <td>3.0</td>\n",
       "      <td>2.0</td>\n",
       "      <td>1.0</td>\n",
       "      <td>0.0</td>\n",
       "    </tr>\n",
       "    <tr>\n",
       "      <th>7</th>\n",
       "      <td>2020-12-07 23:06:24+01:00</td>\n",
       "      <td>5</td>\n",
       "      <td>14</td>\n",
       "      <td>5</td>\n",
       "      <td>0</td>\n",
       "      <td>2</td>\n",
       "      <td>2</td>\n",
       "      <td>0</td>\n",
       "      <td>0</td>\n",
       "      <td>0</td>\n",
       "      <td>...</td>\n",
       "      <td>25.182228</td>\n",
       "      <td>0.016700</td>\n",
       "      <td>72.930044</td>\n",
       "      <td>64.517835</td>\n",
       "      <td>0.053200</td>\n",
       "      <td>2.0</td>\n",
       "      <td>4.0</td>\n",
       "      <td>1.0</td>\n",
       "      <td>3.0</td>\n",
       "      <td>0.0</td>\n",
       "    </tr>\n",
       "    <tr>\n",
       "      <th>8</th>\n",
       "      <td>2020-10-12 08:09:48+02:00</td>\n",
       "      <td>5</td>\n",
       "      <td>6</td>\n",
       "      <td>5</td>\n",
       "      <td>0</td>\n",
       "      <td>0</td>\n",
       "      <td>0</td>\n",
       "      <td>0</td>\n",
       "      <td>0</td>\n",
       "      <td>0</td>\n",
       "      <td>...</td>\n",
       "      <td>28.745950</td>\n",
       "      <td>0.014700</td>\n",
       "      <td>49.958010</td>\n",
       "      <td>72.354731</td>\n",
       "      <td>0.015900</td>\n",
       "      <td>0.0</td>\n",
       "      <td>2.0</td>\n",
       "      <td>1.0</td>\n",
       "      <td>3.0</td>\n",
       "      <td>4.0</td>\n",
       "    </tr>\n",
       "    <tr>\n",
       "      <th>9</th>\n",
       "      <td>2020-09-10 13:25:58+02:00</td>\n",
       "      <td>5</td>\n",
       "      <td>17</td>\n",
       "      <td>5</td>\n",
       "      <td>2</td>\n",
       "      <td>0</td>\n",
       "      <td>0</td>\n",
       "      <td>2</td>\n",
       "      <td>0</td>\n",
       "      <td>0</td>\n",
       "      <td>...</td>\n",
       "      <td>44.439039</td>\n",
       "      <td>0.012200</td>\n",
       "      <td>60.279715</td>\n",
       "      <td>82.984785</td>\n",
       "      <td>0.045000</td>\n",
       "      <td>4.0</td>\n",
       "      <td>1.0</td>\n",
       "      <td>0.0</td>\n",
       "      <td>3.0</td>\n",
       "      <td>2.0</td>\n",
       "    </tr>\n",
       "    <tr>\n",
       "      <th>13</th>\n",
       "      <td>2020-08-10 07:36:22+02:00</td>\n",
       "      <td>5</td>\n",
       "      <td>13</td>\n",
       "      <td>5</td>\n",
       "      <td>0</td>\n",
       "      <td>0</td>\n",
       "      <td>0</td>\n",
       "      <td>0</td>\n",
       "      <td>0</td>\n",
       "      <td>0</td>\n",
       "      <td>...</td>\n",
       "      <td>45.842043</td>\n",
       "      <td>0.022900</td>\n",
       "      <td>39.173300</td>\n",
       "      <td>115.457597</td>\n",
       "      <td>0.018300</td>\n",
       "      <td>2.0</td>\n",
       "      <td>0.0</td>\n",
       "      <td>3.0</td>\n",
       "      <td>1.0</td>\n",
       "      <td>4.0</td>\n",
       "    </tr>\n",
       "  </tbody>\n",
       "</table>\n",
       "<p>5 rows × 84 columns</p>\n",
       "</div>"
      ],
      "text/plain": [
       "             last_update_date  N_qubits  N_cx  N_measures  cx_0_1  cx_0_2  \\\n",
       "6   2020-05-03 10:03:21+02:00         5     1           5       0       0   \n",
       "7   2020-12-07 23:06:24+01:00         5    14           5       0       2   \n",
       "8   2020-10-12 08:09:48+02:00         5     6           5       0       0   \n",
       "9   2020-09-10 13:25:58+02:00         5    17           5       2       0   \n",
       "13  2020-08-10 07:36:22+02:00         5    13           5       0       0   \n",
       "\n",
       "    cx_0_3  cx_0_4  cx_1_0  cx_1_2  ...       T2_3  readout_error_3  \\\n",
       "6        0       0       0       0  ...  24.146419         0.016667   \n",
       "7        2       0       0       0  ...  25.182228         0.016700   \n",
       "8        0       0       0       0  ...  28.745950         0.014700   \n",
       "9        0       2       0       0  ...  44.439039         0.012200   \n",
       "13       0       0       0       0  ...  45.842043         0.022900   \n",
       "\n",
       "         T1_4        T2_4  readout_error_4    0    1    2    3    4  \n",
       "6   53.144192   76.958280         0.023333  4.0  3.0  2.0  1.0  0.0  \n",
       "7   72.930044   64.517835         0.053200  2.0  4.0  1.0  3.0  0.0  \n",
       "8   49.958010   72.354731         0.015900  0.0  2.0  1.0  3.0  4.0  \n",
       "9   60.279715   82.984785         0.045000  4.0  1.0  0.0  3.0  2.0  \n",
       "13  39.173300  115.457597         0.018300  2.0  0.0  3.0  1.0  4.0  \n",
       "\n",
       "[5 rows x 84 columns]"
      ]
     },
     "execution_count": 43,
     "metadata": {},
     "output_type": "execute_result"
    }
   ],
   "source": [
    "data = pd.read_csv('Dataset/Athens.csv')\n",
    "print(data.shape)\n",
    "\n",
    "# Controversial choice, but lets see\n",
    "data = data.dropna()\n",
    "print(data.shape)\n",
    "\n",
    "data.head()"
   ]
  },
  {
   "cell_type": "code",
   "execution_count": null,
   "id": "5145b856",
   "metadata": {},
   "outputs": [],
   "source": []
  },
  {
   "cell_type": "code",
   "execution_count": 3,
   "id": "b7257258",
   "metadata": {},
   "outputs": [
    {
     "data": {
      "text/plain": [
       "84"
      ]
     },
     "execution_count": 3,
     "metadata": {},
     "output_type": "execute_result"
    }
   ],
   "source": [
    "len(data.columns)"
   ]
  },
  {
   "cell_type": "code",
   "execution_count": 44,
   "id": "2d37dbe0",
   "metadata": {},
   "outputs": [
    {
     "name": "stdout",
     "output_type": "stream",
     "text": [
      "(26758, 5)\n"
     ]
    },
    {
     "data": {
      "text/html": [
       "<div>\n",
       "<style scoped>\n",
       "    .dataframe tbody tr th:only-of-type {\n",
       "        vertical-align: middle;\n",
       "    }\n",
       "\n",
       "    .dataframe tbody tr th {\n",
       "        vertical-align: top;\n",
       "    }\n",
       "\n",
       "    .dataframe thead th {\n",
       "        text-align: right;\n",
       "    }\n",
       "</style>\n",
       "<table border=\"1\" class=\"dataframe\">\n",
       "  <thead>\n",
       "    <tr style=\"text-align: right;\">\n",
       "      <th></th>\n",
       "      <th>0</th>\n",
       "      <th>1</th>\n",
       "      <th>2</th>\n",
       "      <th>3</th>\n",
       "      <th>4</th>\n",
       "    </tr>\n",
       "  </thead>\n",
       "  <tbody>\n",
       "    <tr>\n",
       "      <th>6</th>\n",
       "      <td>4.0</td>\n",
       "      <td>3.0</td>\n",
       "      <td>2.0</td>\n",
       "      <td>1.0</td>\n",
       "      <td>0.0</td>\n",
       "    </tr>\n",
       "    <tr>\n",
       "      <th>7</th>\n",
       "      <td>2.0</td>\n",
       "      <td>4.0</td>\n",
       "      <td>1.0</td>\n",
       "      <td>3.0</td>\n",
       "      <td>0.0</td>\n",
       "    </tr>\n",
       "    <tr>\n",
       "      <th>8</th>\n",
       "      <td>0.0</td>\n",
       "      <td>2.0</td>\n",
       "      <td>1.0</td>\n",
       "      <td>3.0</td>\n",
       "      <td>4.0</td>\n",
       "    </tr>\n",
       "    <tr>\n",
       "      <th>9</th>\n",
       "      <td>4.0</td>\n",
       "      <td>1.0</td>\n",
       "      <td>0.0</td>\n",
       "      <td>3.0</td>\n",
       "      <td>2.0</td>\n",
       "    </tr>\n",
       "    <tr>\n",
       "      <th>13</th>\n",
       "      <td>2.0</td>\n",
       "      <td>0.0</td>\n",
       "      <td>3.0</td>\n",
       "      <td>1.0</td>\n",
       "      <td>4.0</td>\n",
       "    </tr>\n",
       "  </tbody>\n",
       "</table>\n",
       "</div>"
      ],
      "text/plain": [
       "      0    1    2    3    4\n",
       "6   4.0  3.0  2.0  1.0  0.0\n",
       "7   2.0  4.0  1.0  3.0  0.0\n",
       "8   0.0  2.0  1.0  3.0  4.0\n",
       "9   4.0  1.0  0.0  3.0  2.0\n",
       "13  2.0  0.0  3.0  1.0  4.0"
      ]
     },
     "execution_count": 44,
     "metadata": {},
     "output_type": "execute_result"
    }
   ],
   "source": [
    "y = data[['0', '1', '2', '3', '4']]\n",
    "print(y.shape)\n",
    "y.head()"
   ]
  },
  {
   "cell_type": "code",
   "execution_count": 45,
   "id": "843b8f28",
   "metadata": {},
   "outputs": [
    {
     "name": "stdout",
     "output_type": "stream",
     "text": [
      "(26758, 78)\n"
     ]
    },
    {
     "data": {
      "text/html": [
       "<div>\n",
       "<style scoped>\n",
       "    .dataframe tbody tr th:only-of-type {\n",
       "        vertical-align: middle;\n",
       "    }\n",
       "\n",
       "    .dataframe tbody tr th {\n",
       "        vertical-align: top;\n",
       "    }\n",
       "\n",
       "    .dataframe thead th {\n",
       "        text-align: right;\n",
       "    }\n",
       "</style>\n",
       "<table border=\"1\" class=\"dataframe\">\n",
       "  <thead>\n",
       "    <tr style=\"text-align: right;\">\n",
       "      <th></th>\n",
       "      <th>N_qubits</th>\n",
       "      <th>N_cx</th>\n",
       "      <th>N_measures</th>\n",
       "      <th>cx_0_1</th>\n",
       "      <th>cx_0_2</th>\n",
       "      <th>cx_0_3</th>\n",
       "      <th>cx_0_4</th>\n",
       "      <th>cx_1_0</th>\n",
       "      <th>cx_1_2</th>\n",
       "      <th>cx_1_3</th>\n",
       "      <th>...</th>\n",
       "      <th>readout_error_1</th>\n",
       "      <th>T1_2</th>\n",
       "      <th>T2_2</th>\n",
       "      <th>readout_error_2</th>\n",
       "      <th>T1_3</th>\n",
       "      <th>T2_3</th>\n",
       "      <th>readout_error_3</th>\n",
       "      <th>T1_4</th>\n",
       "      <th>T2_4</th>\n",
       "      <th>readout_error_4</th>\n",
       "    </tr>\n",
       "  </thead>\n",
       "  <tbody>\n",
       "    <tr>\n",
       "      <th>6</th>\n",
       "      <td>5</td>\n",
       "      <td>1</td>\n",
       "      <td>5</td>\n",
       "      <td>0</td>\n",
       "      <td>0</td>\n",
       "      <td>0</td>\n",
       "      <td>0</td>\n",
       "      <td>0</td>\n",
       "      <td>0</td>\n",
       "      <td>0</td>\n",
       "      <td>...</td>\n",
       "      <td>0.0350</td>\n",
       "      <td>106.488868</td>\n",
       "      <td>119.982326</td>\n",
       "      <td>0.011667</td>\n",
       "      <td>80.320345</td>\n",
       "      <td>24.146419</td>\n",
       "      <td>0.016667</td>\n",
       "      <td>53.144192</td>\n",
       "      <td>76.958280</td>\n",
       "      <td>0.023333</td>\n",
       "    </tr>\n",
       "    <tr>\n",
       "      <th>7</th>\n",
       "      <td>5</td>\n",
       "      <td>14</td>\n",
       "      <td>5</td>\n",
       "      <td>0</td>\n",
       "      <td>2</td>\n",
       "      <td>2</td>\n",
       "      <td>0</td>\n",
       "      <td>0</td>\n",
       "      <td>0</td>\n",
       "      <td>0</td>\n",
       "      <td>...</td>\n",
       "      <td>0.0428</td>\n",
       "      <td>110.162150</td>\n",
       "      <td>157.132011</td>\n",
       "      <td>0.013700</td>\n",
       "      <td>94.374982</td>\n",
       "      <td>25.182228</td>\n",
       "      <td>0.016700</td>\n",
       "      <td>72.930044</td>\n",
       "      <td>64.517835</td>\n",
       "      <td>0.053200</td>\n",
       "    </tr>\n",
       "    <tr>\n",
       "      <th>8</th>\n",
       "      <td>5</td>\n",
       "      <td>6</td>\n",
       "      <td>5</td>\n",
       "      <td>0</td>\n",
       "      <td>0</td>\n",
       "      <td>0</td>\n",
       "      <td>0</td>\n",
       "      <td>0</td>\n",
       "      <td>0</td>\n",
       "      <td>2</td>\n",
       "      <td>...</td>\n",
       "      <td>0.0137</td>\n",
       "      <td>120.966078</td>\n",
       "      <td>94.106302</td>\n",
       "      <td>0.012300</td>\n",
       "      <td>157.856674</td>\n",
       "      <td>28.745950</td>\n",
       "      <td>0.014700</td>\n",
       "      <td>49.958010</td>\n",
       "      <td>72.354731</td>\n",
       "      <td>0.015900</td>\n",
       "    </tr>\n",
       "    <tr>\n",
       "      <th>9</th>\n",
       "      <td>5</td>\n",
       "      <td>17</td>\n",
       "      <td>5</td>\n",
       "      <td>2</td>\n",
       "      <td>0</td>\n",
       "      <td>0</td>\n",
       "      <td>2</td>\n",
       "      <td>0</td>\n",
       "      <td>0</td>\n",
       "      <td>0</td>\n",
       "      <td>...</td>\n",
       "      <td>0.0144</td>\n",
       "      <td>91.449658</td>\n",
       "      <td>153.575729</td>\n",
       "      <td>0.013900</td>\n",
       "      <td>60.967640</td>\n",
       "      <td>44.439039</td>\n",
       "      <td>0.012200</td>\n",
       "      <td>60.279715</td>\n",
       "      <td>82.984785</td>\n",
       "      <td>0.045000</td>\n",
       "    </tr>\n",
       "    <tr>\n",
       "      <th>13</th>\n",
       "      <td>5</td>\n",
       "      <td>13</td>\n",
       "      <td>5</td>\n",
       "      <td>0</td>\n",
       "      <td>0</td>\n",
       "      <td>0</td>\n",
       "      <td>0</td>\n",
       "      <td>0</td>\n",
       "      <td>0</td>\n",
       "      <td>0</td>\n",
       "      <td>...</td>\n",
       "      <td>0.0153</td>\n",
       "      <td>105.477772</td>\n",
       "      <td>178.278446</td>\n",
       "      <td>0.018400</td>\n",
       "      <td>102.119128</td>\n",
       "      <td>45.842043</td>\n",
       "      <td>0.022900</td>\n",
       "      <td>39.173300</td>\n",
       "      <td>115.457597</td>\n",
       "      <td>0.018300</td>\n",
       "    </tr>\n",
       "  </tbody>\n",
       "</table>\n",
       "<p>5 rows × 78 columns</p>\n",
       "</div>"
      ],
      "text/plain": [
       "    N_qubits  N_cx  N_measures  cx_0_1  cx_0_2  cx_0_3  cx_0_4  cx_1_0  \\\n",
       "6          5     1           5       0       0       0       0       0   \n",
       "7          5    14           5       0       2       2       0       0   \n",
       "8          5     6           5       0       0       0       0       0   \n",
       "9          5    17           5       2       0       0       2       0   \n",
       "13         5    13           5       0       0       0       0       0   \n",
       "\n",
       "    cx_1_2  cx_1_3  ...  readout_error_1        T1_2        T2_2  \\\n",
       "6        0       0  ...           0.0350  106.488868  119.982326   \n",
       "7        0       0  ...           0.0428  110.162150  157.132011   \n",
       "8        0       2  ...           0.0137  120.966078   94.106302   \n",
       "9        0       0  ...           0.0144   91.449658  153.575729   \n",
       "13       0       0  ...           0.0153  105.477772  178.278446   \n",
       "\n",
       "    readout_error_2        T1_3       T2_3  readout_error_3       T1_4  \\\n",
       "6          0.011667   80.320345  24.146419         0.016667  53.144192   \n",
       "7          0.013700   94.374982  25.182228         0.016700  72.930044   \n",
       "8          0.012300  157.856674  28.745950         0.014700  49.958010   \n",
       "9          0.013900   60.967640  44.439039         0.012200  60.279715   \n",
       "13         0.018400  102.119128  45.842043         0.022900  39.173300   \n",
       "\n",
       "          T2_4  readout_error_4  \n",
       "6    76.958280         0.023333  \n",
       "7    64.517835         0.053200  \n",
       "8    72.354731         0.015900  \n",
       "9    82.984785         0.045000  \n",
       "13  115.457597         0.018300  \n",
       "\n",
       "[5 rows x 78 columns]"
      ]
     },
     "execution_count": 45,
     "metadata": {},
     "output_type": "execute_result"
    }
   ],
   "source": [
    "X = data.drop(columns=['0', '1', '2', '3', '4', 'last_update_date'])\n",
    "print(X.shape)\n",
    "X.head()"
   ]
  },
  {
   "cell_type": "code",
   "execution_count": null,
   "id": "c0085f18",
   "metadata": {},
   "outputs": [],
   "source": []
  },
  {
   "cell_type": "markdown",
   "id": "10905afd",
   "metadata": {},
   "source": [
    "### Trying it out with TensorFlow"
   ]
  },
  {
   "cell_type": "code",
   "execution_count": null,
   "id": "70f597f5",
   "metadata": {},
   "outputs": [],
   "source": [
    "import tensorflow as tf\n",
    "from sklearn.model_selection import train_test_split"
   ]
  },
  {
   "cell_type": "code",
   "execution_count": null,
   "id": "423de885",
   "metadata": {},
   "outputs": [],
   "source": [
    "X_train, X_test, y_train, y_test = train_test_split(\n",
    "    X, y,\n",
    "    test_size=0.2,\n",
    "    random_state=42\n",
    ")"
   ]
  },
  {
   "cell_type": "code",
   "execution_count": null,
   "id": "df09ef0d",
   "metadata": {},
   "outputs": [],
   "source": [
    "initial_deep_nn = tf.keras.Sequential([\n",
    "    tf.keras.layers.InputLayer(input_shape=(78,)),\n",
    "    tf.keras.layers.Dense(264),\n",
    "    tf.keras.layers.Dense(1024),\n",
    "    tf.keras.layers.Dense(1024)\n",
    "])"
   ]
  },
  {
   "cell_type": "code",
   "execution_count": null,
   "id": "98715ae0",
   "metadata": {},
   "outputs": [],
   "source": [
    "initial_deep_nn.summary()"
   ]
  },
  {
   "cell_type": "code",
   "execution_count": null,
   "id": "e3674ac5",
   "metadata": {},
   "outputs": [],
   "source": [
    "slot_model = tf.keras.Sequential([\n",
    "    tf.keras.layers.InputLayer(input_shape=(1024,)),\n",
    "    tf.keras.layers.Dense(256),\n",
    "    tf.keras.layers.Dense(128),\n",
    "    tf.keras.layers.Dense(6)\n",
    "])"
   ]
  },
  {
   "cell_type": "code",
   "execution_count": null,
   "id": "5b69ca87",
   "metadata": {},
   "outputs": [],
   "source": [
    "slot_model.summary()"
   ]
  },
  {
   "cell_type": "code",
   "execution_count": null,
   "id": "2004f451",
   "metadata": {},
   "outputs": [],
   "source": [
    "initial_deep_nn.compile(tf.keras.optimizers.Adam(), loss=tf.keras.losses.CategoricalCrossentropy())"
   ]
  },
  {
   "cell_type": "code",
   "execution_count": null,
   "id": "f261230a",
   "metadata": {},
   "outputs": [],
   "source": [
    "model_with_slot_1 = tf.keras.Sequential([\n",
    "    tf.keras.layers.InputLayer(input_shape=(78,)),\n",
    "    tf.keras.layers.Dense(264),\n",
    "    tf.keras.layers.Dense(1024),\n",
    "    tf.keras.layers.Dense(1024),\n",
    "    tf.keras.layers.Dense(256),\n",
    "    tf.keras.layers.Dense(128),\n",
    "    tf.keras.layers.Dense(5)\n",
    "])"
   ]
  },
  {
   "cell_type": "code",
   "execution_count": null,
   "id": "77d795e1",
   "metadata": {},
   "outputs": [],
   "source": [
    "model_with_slot_1.compile(tf.keras.optimizers.Adam(), loss=tf.keras.losses.CategoricalCrossentropy())"
   ]
  },
  {
   "cell_type": "code",
   "execution_count": null,
   "id": "2d0a14db",
   "metadata": {},
   "outputs": [],
   "source": [
    "model_with_slot_1.fit(X_train, y_train, epochs=10)"
   ]
  },
  {
   "cell_type": "code",
   "execution_count": null,
   "id": "3a2f6a03",
   "metadata": {},
   "outputs": [],
   "source": [
    "model_with_slot_1.predict(X_test)"
   ]
  },
  {
   "cell_type": "code",
   "execution_count": null,
   "id": "e60f97f9",
   "metadata": {},
   "outputs": [],
   "source": [
    "model_with_slot_1.evaluate(X_test, y_test)"
   ]
  },
  {
   "cell_type": "markdown",
   "id": "6397c74e",
   "metadata": {},
   "source": [
    "#### Failed once again with TensorFlow oof"
   ]
  },
  {
   "cell_type": "markdown",
   "id": "c01d2ec1",
   "metadata": {},
   "source": [
    "# PyTorch lesgooo"
   ]
  },
  {
   "cell_type": "code",
   "execution_count": 6,
   "id": "f203f5ac",
   "metadata": {},
   "outputs": [],
   "source": [
    "import torch\n",
    "from sklearn.model_selection import train_test_split"
   ]
  },
  {
   "cell_type": "code",
   "execution_count": 7,
   "id": "69bc0a2f",
   "metadata": {},
   "outputs": [],
   "source": [
    "X_train, X_test, y_train, y_test = train_test_split(\n",
    "    X, y,\n",
    "    test_size=0.2,\n",
    "    random_state=42\n",
    ")"
   ]
  },
  {
   "cell_type": "code",
   "execution_count": null,
   "id": "fa06e3c9",
   "metadata": {},
   "outputs": [],
   "source": [
    "X_train.to_csv('Dataset/Athens_x_train.csv', index=False)\n",
    "X_test.to_csv('Dataset/Athens_x_test.csv', index=False)\n",
    "y_train.to_csv('Dataset/Athens_y_train.csv', index=False)\n",
    "y_test.to_csv('Dataset/Athens_y_test.csv', index=False)"
   ]
  },
  {
   "cell_type": "code",
   "execution_count": 9,
   "id": "43198c0b",
   "metadata": {},
   "outputs": [],
   "source": [
    "from torch.utils.data import Dataset, DataLoader"
   ]
  },
  {
   "cell_type": "code",
   "execution_count": null,
   "id": "9f4e6c8e",
   "metadata": {},
   "outputs": [],
   "source": [
    "class QuantumData(Dataset):\n",
    "    \n",
    "    def __init__(self, x_file, y_file):\n",
    "        self.data_x = pd.read_csv(x_file)\n",
    "        self.data_y = pd.read_csv(y_file)\n",
    "        \n",
    "        self.data_x = torch.tensor(self.data_x.values, dtype=torch.float64)\n",
    "        self.data_y = torch.tensor(self.data_y.values, dtype=torch.float64)\n",
    "        \n",
    "    def __len__(self):\n",
    "        return len(self.data_x)\n",
    "    \n",
    "    def __getitem__(self, idx):\n",
    "        if torch.is_tensor(idx):\n",
    "            idx = idx.tolist()\n",
    "            \n",
    "        X = self.data_x[idx]\n",
    "        y = self.data_y[idx]\n",
    "\n",
    "        return X, y"
   ]
  },
  {
   "cell_type": "code",
   "execution_count": null,
   "id": "b6862e4c",
   "metadata": {},
   "outputs": [],
   "source": [
    "training_data = QuantumData('Dataset/Athens_x_train.csv', 'Dataset/Athens_y_train.csv')\n",
    "testing_data = QuantumData('Dataset/Athens_x_test.csv', 'Dataset/Athens_y_test.csv')"
   ]
  },
  {
   "cell_type": "code",
   "execution_count": null,
   "id": "2d8269db",
   "metadata": {},
   "outputs": [],
   "source": [
    "a, b = training_data[0]\n",
    "print(a.shape)\n",
    "print(b.shape)"
   ]
  },
  {
   "cell_type": "code",
   "execution_count": null,
   "id": "1b5d4a22",
   "metadata": {},
   "outputs": [],
   "source": [
    "type(a)"
   ]
  },
  {
   "cell_type": "code",
   "execution_count": null,
   "id": "31357f78",
   "metadata": {},
   "outputs": [],
   "source": [
    "print(len(training_data))\n",
    "print(len(testing_data))"
   ]
  },
  {
   "cell_type": "code",
   "execution_count": null,
   "id": "9f988c7e",
   "metadata": {},
   "outputs": [],
   "source": [
    "train_dataloader = DataLoader(training_data, batch_size=64, shuffle=True)\n",
    "test_dataloader = DataLoader(testing_data, batch_size=64, shuffle=True)"
   ]
  },
  {
   "cell_type": "code",
   "execution_count": null,
   "id": "61fba818",
   "metadata": {},
   "outputs": [],
   "source": [
    "x, y = next(iter(train_dataloader))\n",
    "print(x.shape)\n",
    "print(y.shape)"
   ]
  },
  {
   "cell_type": "code",
   "execution_count": null,
   "id": "3d14cfb1",
   "metadata": {},
   "outputs": [],
   "source": [
    "class NeuralLayout(torch.nn.Module):\n",
    "    \n",
    "    def __init__(self):\n",
    "        super(NeuralLayout, self).__init__()\n",
    "        \n",
    "        self.general_dnn = torch.nn.Sequential(\n",
    "            torch.nn.Linear(78, 264),\n",
    "            torch.nn.Linear(264, 1024),\n",
    "            torch.nn.Dropout(p=0.5)\n",
    "        )\n",
    "        \n",
    "        slot = torch.nn.Sequential(\n",
    "            torch.nn.Linear(1024, 256),\n",
    "            torch.nn.Linear(256, 128),\n",
    "            torch.nn.Linear(128, 5)\n",
    "        )\n",
    "        \n",
    "        self.slots = [slot] * 5\n",
    "        \n",
    "    def forward(self, x):\n",
    "        x = self.general_dnn(x)\n",
    "        out = [slot(x) for slot in self.slots]\n",
    "        \n",
    "        return out"
   ]
  },
  {
   "cell_type": "code",
   "execution_count": null,
   "id": "f089ec73",
   "metadata": {},
   "outputs": [],
   "source": [
    "nl = NeuralLayout()"
   ]
  },
  {
   "cell_type": "code",
   "execution_count": 118,
   "id": "8c28cf6f",
   "metadata": {},
   "outputs": [],
   "source": [
    "loss_fn = torch.nn.CrossEntropyLoss()\n",
    "optimizer = torch.optim.SGD(model.parameters(), lr=0.001)"
   ]
  }
 ],
 "metadata": {
  "kernelspec": {
   "display_name": "Python 3 (ipykernel)",
   "language": "python",
   "name": "python3"
  },
  "language_info": {
   "codemirror_mode": {
    "name": "ipython",
    "version": 3
   },
   "file_extension": ".py",
   "mimetype": "text/x-python",
   "name": "python",
   "nbconvert_exporter": "python",
   "pygments_lexer": "ipython3",
   "version": "3.10.9"
  }
 },
 "nbformat": 4,
 "nbformat_minor": 5
}
